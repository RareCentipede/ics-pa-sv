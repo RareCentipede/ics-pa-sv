{
 "cells": [
  {
   "cell_type": "markdown",
   "id": "ac408b5e",
   "metadata": {
    "deletable": false,
    "editable": false,
    "nbgrader": {
     "cell_type": "markdown",
     "checksum": "7619294def77410a539e618e2428f0d5",
     "grade": false,
     "grade_id": "cell-b00828259c8e42e8",
     "locked": true,
     "schema_version": 3,
     "solution": false,
     "task": false
    }
   },
   "source": [
    "# RO47019: Intelligent Control Systems Practical Assignment\n",
    "* Period: 2023-2024, Q3\n",
    "* Course homepage: https://brightspace.tudelft.nl/d2l/home/500969\n",
    "* Instructor: Cosimo Della Santina (C.DellaSantina@tudelft.nl)\n",
    "* Teaching assistant: Maria de Neves de Fonseca (M.deNevesdeFonseca-1@student.tudelft.nl)\n",
    "* (c) TU Delft, 2024\n",
    "\n",
    "Make sure you fill in any place that says `YOUR CODE HERE` or `YOUR ANSWER HERE`. Remove `raise NotImplementedError()` afterwards. Moreover, if you see an empty cell, please DO NOT delete it, instead run that cell as you would run all other cells. Please fill in your name(s) and other required details below:"
   ]
  },
  {
   "cell_type": "code",
   "execution_count": 11,
   "id": "4f9e220c",
   "metadata": {},
   "outputs": [],
   "source": [
    "# Please fill in your names, student numbers, netID, and emails below.\n",
    "STUDENT_1_NAME = \"Zhengyang Lu\"\n",
    "STUDENT_1_STUDENT_NUMBER = \"5074428\"\n",
    "STUDENT_1_NETID = \"zhengyanglu\"\n",
    "STUDENT_1_EMAIL = \"Z.lu-5@student.tudelft.nl\""
   ]
  },
  {
   "cell_type": "code",
   "execution_count": 12,
   "id": "8ba32571",
   "metadata": {
    "deletable": false,
    "editable": false,
    "nbgrader": {
     "cell_type": "code",
     "checksum": "042927213b84aa368aa3ea72caa4cb60",
     "grade": true,
     "grade_id": "cell-9f148ec62e0de49c",
     "locked": true,
     "points": 0,
     "schema_version": 3,
     "solution": false,
     "task": false
    }
   },
   "outputs": [],
   "source": [
    "# Note: this block is a check that you have filled in the above information.\n",
    "# It will throw an AssertionError until all fields are filled\n",
    "assert STUDENT_1_NAME != \"\"\n",
    "assert STUDENT_1_STUDENT_NUMBER != \"\"\n",
    "assert STUDENT_1_NETID != \"\"\n",
    "assert STUDENT_1_EMAIL != \"\""
   ]
  },
  {
   "cell_type": "markdown",
   "id": "af317a94",
   "metadata": {
    "deletable": false,
    "editable": false,
    "nbgrader": {
     "cell_type": "markdown",
     "checksum": "95c5b11f9ac3896252d342cabb38d867",
     "grade": false,
     "grade_id": "cell-4ea391677951116c",
     "locked": true,
     "schema_version": 3,
     "solution": false,
     "task": false
    }
   },
   "source": [
    "### General announcements\n",
    "\n",
    "* Do *not* share your solutions (also after the course is finished), and do *not* copy solutions from others. By submitting your solutions, you claim that you alone are responsible for this code.\n",
    "\n",
    "* Do *not* email questions directly, since we want to provide everybody with the same information and avoid repeating the same answers. Instead, please post your questions regarding this assignment in the correct support forum on Brightspace, this way everybody can benefit from the response. If you do have a particular question that you want to ask directly, please use the scheduled Q&A hours to ask the TA.\n",
    "\n",
    "* There is a strict deadline for each assignment. Students are responsible to ensure that they have uploaded their work in time. So, please double check that your upload succeeded to the Brightspace and avoid any late penalties.\n",
    "\n",
    "* This [Jupyter notebook](https://jupyter.org/) uses `nbgrader` to help us with automated tests. `nbgrader` will make various cells in this notebook \"uneditable\" or \"unremovable\" and gives them a special id in the cell metadata. This way, when we run our checks, the system will check the existence of the cell ids and verify the number of points and which checks must be run. While there are ways that you can edit the metadata and work around the restrictions to delete or modify these special cells, you should not do that since then our nbgrader backend will not be able to parse your notebook and give you points for the assignment. You are free to add additional cells, but if you find a cell that you cannot modify or remove, please know that this is on purpose.\n",
    "\n",
    "* This notebook will have in various places a line that throws a `NotImplementedError` exception. These are locations where the assignment requires you to adapt the code! These lines are just there as a reminder for you that you have not yet adapted that particular piece of code, especially when you execute all the cells. Once your solution code replaced these lines, it should accordingly *not* throw any exceptions anymore.\n",
    "\n",
    "Before you turn this problem in, make sure everything runs as expected. First, **restart the kernel** (in the menubar, select Kernel$\\rightarrow$Restart) and then **run all cells** (in the menubar, select Cell$\\rightarrow$Run All)."
   ]
  },
  {
   "cell_type": "code",
   "execution_count": null,
   "id": "3c956945",
   "metadata": {},
   "outputs": [],
   "source": []
  },
  {
   "cell_type": "markdown",
   "id": "12af8b2f",
   "metadata": {
    "deletable": false,
    "editable": false,
    "nbgrader": {
     "cell_type": "markdown",
     "checksum": "a29dd387c402d3428f4cfdae33fc86cc",
     "grade": false,
     "grade_id": "cell-09ee0d8744e5ae05",
     "locked": true,
     "schema_version": 3,
     "solution": false,
     "task": false
    }
   },
   "source": [
    "# Task 3b - Familiarization with Multi-Input Single output GPs (5p) (Bonus)\n",
    "**Authors:** Giovanni Franzese (G.Franzese@tudelft.nl), Lorenzo Lyons (L.Lyons@tudelft.nl)"
   ]
  },
  {
   "cell_type": "code",
   "execution_count": 13,
   "id": "0f4ceacc",
   "metadata": {
    "deletable": false,
    "editable": false,
    "nbgrader": {
     "cell_type": "code",
     "checksum": "580d23f30196d59b4f4026cd53525f23",
     "grade": false,
     "grade_id": "cell-ba3273c841494da7",
     "locked": true,
     "schema_version": 3,
     "solution": false,
     "task": false
    }
   },
   "outputs": [],
   "source": [
    "import gpytorch\n",
    "from gpytorch.models import ApproximateGP\n",
    "from gpytorch.variational import CholeskyVariationalDistribution\n",
    "from gpytorch.variational import VariationalStrategy\n",
    "import matplotlib.pyplot as plt\n",
    "from matplotlib.widgets import Slider\n",
    "import numpy as np\n",
    "import pandas as pd\n",
    "from pathlib import Path\n",
    "import torch\n",
    "from torch.utils.data import TensorDataset, DataLoader\n",
    "from tqdm.notebook import tqdm  # progress bar\n",
    "\n",
    "# define folder where to save animations and plots\n",
    "outputs_dir = Path(\"outputs\")\n",
    "outputs_dir.mkdir(parents=True, exist_ok=True)"
   ]
  },
  {
   "cell_type": "markdown",
   "id": "549d3167",
   "metadata": {
    "deletable": false,
    "editable": false,
    "nbgrader": {
     "cell_type": "markdown",
     "checksum": "e83e0ef63ba046a0f3056ff765a0b1d1",
     "grade": false,
     "grade_id": "cell-a465b1b75d945b2b",
     "locked": true,
     "schema_version": 3,
     "solution": false,
     "task": false
    }
   },
   "source": [
    "## Task 3b.1 - Load the dataset with concrete data (0p)"
   ]
  },
  {
   "cell_type": "code",
   "execution_count": 14,
   "id": "5b58cdd3",
   "metadata": {
    "deletable": false,
    "editable": false,
    "nbgrader": {
     "cell_type": "code",
     "checksum": "3ff58139f3f2857e51d8ca4a032ea0a8",
     "grade": false,
     "grade_id": "cell-c30144953f9790f1",
     "locked": true,
     "schema_version": 3,
     "solution": false,
     "task": false
    }
   },
   "outputs": [
    {
     "data": {
      "text/html": [
       "<div>\n",
       "<style scoped>\n",
       "    .dataframe tbody tr th:only-of-type {\n",
       "        vertical-align: middle;\n",
       "    }\n",
       "\n",
       "    .dataframe tbody tr th {\n",
       "        vertical-align: top;\n",
       "    }\n",
       "\n",
       "    .dataframe thead th {\n",
       "        text-align: right;\n",
       "    }\n",
       "</style>\n",
       "<table border=\"1\" class=\"dataframe\">\n",
       "  <thead>\n",
       "    <tr style=\"text-align: right;\">\n",
       "      <th></th>\n",
       "      <th>Cement (component 1)(kg in a m^3 mixture)</th>\n",
       "      <th>Blast Furnace Slag (component 2)(kg in a m^3 mixture)</th>\n",
       "      <th>Fly Ash (component 3)(kg in a m^3 mixture)</th>\n",
       "      <th>Water  (component 4)(kg in a m^3 mixture)</th>\n",
       "      <th>Superplasticizer (component 5)(kg in a m^3 mixture)</th>\n",
       "      <th>Coarse Aggregate  (component 6)(kg in a m^3 mixture)</th>\n",
       "      <th>Fine Aggregate (component 7)(kg in a m^3 mixture)</th>\n",
       "      <th>Age (day)</th>\n",
       "      <th>Concrete compressive strength(MPa, megapascals)</th>\n",
       "    </tr>\n",
       "  </thead>\n",
       "  <tbody>\n",
       "    <tr>\n",
       "      <th>0</th>\n",
       "      <td>540.0</td>\n",
       "      <td>0.0</td>\n",
       "      <td>0.0</td>\n",
       "      <td>162.0</td>\n",
       "      <td>2.5</td>\n",
       "      <td>1040.0</td>\n",
       "      <td>676.0</td>\n",
       "      <td>28</td>\n",
       "      <td>79.99</td>\n",
       "    </tr>\n",
       "    <tr>\n",
       "      <th>1</th>\n",
       "      <td>540.0</td>\n",
       "      <td>0.0</td>\n",
       "      <td>0.0</td>\n",
       "      <td>162.0</td>\n",
       "      <td>2.5</td>\n",
       "      <td>1055.0</td>\n",
       "      <td>676.0</td>\n",
       "      <td>28</td>\n",
       "      <td>61.89</td>\n",
       "    </tr>\n",
       "    <tr>\n",
       "      <th>2</th>\n",
       "      <td>332.5</td>\n",
       "      <td>142.5</td>\n",
       "      <td>0.0</td>\n",
       "      <td>228.0</td>\n",
       "      <td>0.0</td>\n",
       "      <td>932.0</td>\n",
       "      <td>594.0</td>\n",
       "      <td>270</td>\n",
       "      <td>40.27</td>\n",
       "    </tr>\n",
       "    <tr>\n",
       "      <th>3</th>\n",
       "      <td>332.5</td>\n",
       "      <td>142.5</td>\n",
       "      <td>0.0</td>\n",
       "      <td>228.0</td>\n",
       "      <td>0.0</td>\n",
       "      <td>932.0</td>\n",
       "      <td>594.0</td>\n",
       "      <td>365</td>\n",
       "      <td>41.05</td>\n",
       "    </tr>\n",
       "    <tr>\n",
       "      <th>4</th>\n",
       "      <td>198.6</td>\n",
       "      <td>132.4</td>\n",
       "      <td>0.0</td>\n",
       "      <td>192.0</td>\n",
       "      <td>0.0</td>\n",
       "      <td>978.4</td>\n",
       "      <td>825.5</td>\n",
       "      <td>360</td>\n",
       "      <td>44.30</td>\n",
       "    </tr>\n",
       "  </tbody>\n",
       "</table>\n",
       "</div>"
      ],
      "text/plain": [
       "   Cement (component 1)(kg in a m^3 mixture)  \\\n",
       "0                                      540.0   \n",
       "1                                      540.0   \n",
       "2                                      332.5   \n",
       "3                                      332.5   \n",
       "4                                      198.6   \n",
       "\n",
       "   Blast Furnace Slag (component 2)(kg in a m^3 mixture)  \\\n",
       "0                                                0.0       \n",
       "1                                                0.0       \n",
       "2                                              142.5       \n",
       "3                                              142.5       \n",
       "4                                              132.4       \n",
       "\n",
       "   Fly Ash (component 3)(kg in a m^3 mixture)  \\\n",
       "0                                         0.0   \n",
       "1                                         0.0   \n",
       "2                                         0.0   \n",
       "3                                         0.0   \n",
       "4                                         0.0   \n",
       "\n",
       "   Water  (component 4)(kg in a m^3 mixture)  \\\n",
       "0                                      162.0   \n",
       "1                                      162.0   \n",
       "2                                      228.0   \n",
       "3                                      228.0   \n",
       "4                                      192.0   \n",
       "\n",
       "   Superplasticizer (component 5)(kg in a m^3 mixture)  \\\n",
       "0                                                2.5     \n",
       "1                                                2.5     \n",
       "2                                                0.0     \n",
       "3                                                0.0     \n",
       "4                                                0.0     \n",
       "\n",
       "   Coarse Aggregate  (component 6)(kg in a m^3 mixture)  \\\n",
       "0                                             1040.0      \n",
       "1                                             1055.0      \n",
       "2                                              932.0      \n",
       "3                                              932.0      \n",
       "4                                              978.4      \n",
       "\n",
       "   Fine Aggregate (component 7)(kg in a m^3 mixture)  Age (day)  \\\n",
       "0                                              676.0         28   \n",
       "1                                              676.0         28   \n",
       "2                                              594.0        270   \n",
       "3                                              594.0        365   \n",
       "4                                              825.5        360   \n",
       "\n",
       "   Concrete compressive strength(MPa, megapascals)   \n",
       "0                                             79.99  \n",
       "1                                             61.89  \n",
       "2                                             40.27  \n",
       "3                                             41.05  \n",
       "4                                             44.30  "
      ]
     },
     "execution_count": 14,
     "metadata": {},
     "output_type": "execute_result"
    }
   ],
   "source": [
    "data = pd.read_csv(Path(\"datasets\") / \"Concrete_Data.csv\")\n",
    "data.head()"
   ]
  },
  {
   "cell_type": "markdown",
   "id": "dc529d6e",
   "metadata": {
    "deletable": false,
    "editable": false,
    "nbgrader": {
     "cell_type": "markdown",
     "checksum": "06c5e2b7505739407c82ae714b414efa",
     "grade": false,
     "grade_id": "cell-de085ea88ff5f270",
     "locked": true,
     "schema_version": 3,
     "solution": false,
     "task": false
    }
   },
   "source": [
    "In this task, we will use the dataset with concrete data. The dataset is available in the file `concrete_data.csv`. The dataset contains 8 input variables and 1 output variable. The input variables are Cement, Blast Furnace Slag, Fly Ash, Water, Superplasticizer, Coarse Aggregate, Fine Aggregate, and Age. The output variable is the compressive strength of the concrete. \n",
    "We want to use a Gaussian Process to model the compressive strength of the concrete as a function of the other variables. Such a model can be useful in designing concrete mixtures or predicting the strength given the mixture properties. \n",
    "Let's divide the dataset into the training (80 %) and test (20 %) sets. We also initialize the 300 inducing points as randomly selected from the training set."
   ]
  },
  {
   "cell_type": "code",
   "execution_count": 15,
   "id": "aea63a25",
   "metadata": {
    "deletable": false,
    "editable": false,
    "nbgrader": {
     "cell_type": "code",
     "checksum": "a3920ba44548f7130d30a6376320fdda",
     "grade": false,
     "grade_id": "cell-e6817cbb93d174b4",
     "locked": true,
     "schema_version": 3,
     "solution": false,
     "task": false
    }
   },
   "outputs": [],
   "source": [
    "# Extract X and Y from the dataframe and convert to numpy arrays\n",
    "data_numpy = data.to_numpy()\n",
    "X = data_numpy[:, :-1]\n",
    "Y = data_numpy[:, -1]\n",
    "\n",
    "# Assuming X and Y are your features and labels, respectively\n",
    "# Let's say you have 80% of the data for training and 20% for testing\n",
    "\n",
    "# Set a random seed for reproducibility\n",
    "np.random.seed(42)\n",
    "\n",
    "# Get the number of samples in your dataset\n",
    "num_samples = len(X)\n",
    "\n",
    "# Define the percentage split\n",
    "train_percentage = 0.8\n",
    "\n",
    "# Calculate the number of samples for training\n",
    "num_train_samples = int(train_percentage * num_samples)\n",
    "\n",
    "# Generate random indices for the training set\n",
    "train_indices = np.random.choice(num_samples, num_train_samples, replace=False)\n",
    "\n",
    "# Use the remaining indices for the test set\n",
    "test_indices = np.setdiff1d(np.arange(num_samples), train_indices)\n",
    "\n",
    "# Split the data based on the generated indices\n",
    "train_x, train_y = X[train_indices], Y[train_indices]\n",
    "test_x, test_y = X[test_indices], Y[test_indices]\n",
    "\n",
    "# create the training dataloader\n",
    "train_x_torch = torch.from_numpy(train_x).double()\n",
    "train_y_torch = torch.from_numpy(train_y).double()\n",
    "train_dataset = TensorDataset(train_x_torch, train_y_torch)\n",
    "train_loader = DataLoader(train_dataset, batch_size=256, shuffle=True)\n",
    "\n",
    "# pick inducing points randomly from the training data\n",
    "num_inducing_points = 300\n",
    "inducing_points_index = np.random.choice(\n",
    "    num_train_samples, num_inducing_points, replace=False\n",
    ")\n",
    "inducing_points = torch.from_numpy(train_x[inducing_points_index, :]).double()"
   ]
  },
  {
   "cell_type": "markdown",
   "id": "11fdb410",
   "metadata": {
    "deletable": false,
    "editable": false,
    "nbgrader": {
     "cell_type": "markdown",
     "checksum": "fe9f2ec162952480bf5e187e493417ba",
     "grade": false,
     "grade_id": "cell-35010650535c774e",
     "locked": true,
     "schema_version": 3,
     "solution": false,
     "task": false
    }
   },
   "source": [
    "## Task 3b.2 - Construct a Sparse Gaussian Process with Multiple-Input Single Output (0.5p)\n",
    "Choose the Zero mean or the constant mean according to the if/else statement of the class. Choose the kernel to be an RBF kernel with ARD (0.5p). In GPytorch, the ARD is implemented by setting the `ard_num_dims` parameter of the kernel to the number of input features."
   ]
  },
  {
   "cell_type": "code",
   "execution_count": 16,
   "id": "dd4c36d4",
   "metadata": {
    "deletable": false,
    "nbgrader": {
     "cell_type": "code",
     "checksum": "d06bca671c5fb28b5452b59952d11d74",
     "grade": true,
     "grade_id": "cell-7665366ef6109e2e",
     "locked": false,
     "points": 0.5,
     "schema_version": 3,
     "solution": true,
     "task": false
    }
   },
   "outputs": [],
   "source": [
    "class SVGPModel(ApproximateGP):\n",
    "    def __init__(self, inducing_points, constant_mean=False):\n",
    "        variational_distribution = CholeskyVariationalDistribution(\n",
    "            inducing_points.size(0)\n",
    "        )\n",
    "        variational_strategy = VariationalStrategy(\n",
    "            self,\n",
    "            inducing_points,\n",
    "            variational_distribution,\n",
    "            learn_inducing_locations=True,\n",
    "        )\n",
    "        super(SVGPModel, self).__init__(variational_strategy)\n",
    "        if constant_mean:\n",
    "            # self.mean_module =\n",
    "            # YOUR CODE HERE\n",
    "            self.mean_module = gpytorch.means.ConstantMean()\n",
    "        else:  # Zero mean\n",
    "            # self.mean_module =\n",
    "            # YOUR CODE HERE\n",
    "            self.mean_module = gpytorch.means.ZeroMean()\n",
    "\n",
    "        # Use a RBF kernel with automatic relevance determination (ARD)\n",
    "        # YOUR CODE HERE\n",
    "        self.covar_module = gpytorch.kernels.ScaleKernel(gpytorch.kernels.RBFKernel(ard_num_dims=inducing_points.size(1)))\n",
    "\n",
    "    def forward(self, x):\n",
    "        mean_x = self.mean_module(x)\n",
    "        covar_x = self.covar_module(x)\n",
    "        return gpytorch.distributions.MultivariateNormal(mean_x, covar_x)"
   ]
  },
  {
   "cell_type": "markdown",
   "id": "eb140063",
   "metadata": {
    "deletable": false,
    "editable": false,
    "nbgrader": {
     "cell_type": "markdown",
     "checksum": "781d0feb35104574353616828c2cbf53",
     "grade": false,
     "grade_id": "cell-fb812c2182ac28c5",
     "locked": true,
     "schema_version": 3,
     "solution": false,
     "task": false
    }
   },
   "source": [
    "## Task 3b.3 - Design a function for training the variational parameters (0.5p)\n",
    "Correctly define the marginal log-likelihood, considering our model is an approximate SVGP."
   ]
  },
  {
   "cell_type": "code",
   "execution_count": 17,
   "id": "ceca296f",
   "metadata": {
    "deletable": false,
    "nbgrader": {
     "cell_type": "code",
     "checksum": "c81553f91a33975edd902da0b6b55ecd",
     "grade": true,
     "grade_id": "cell-10b461dbe4e562bc",
     "locked": false,
     "points": 0.5,
     "schema_version": 3,
     "solution": true,
     "task": false
    }
   },
   "outputs": [],
   "source": [
    "def train_variational_parameters(likelihood, model, num_epochs: int = 2000):\n",
    "    optimizer = torch.optim.Adam(\n",
    "        [\n",
    "            {\"params\": model.parameters()},\n",
    "            {\"params\": likelihood.parameters()},\n",
    "        ],\n",
    "        lr=0.01,\n",
    "    )\n",
    "\n",
    "    # Our loss object. We're using the VariationalELBO\n",
    "    # mll =\n",
    "    # YOUR CODE HERE\n",
    "    mll = gpytorch.mlls.VariationalELBO(likelihood, model, num_data=train_y_torch.size(0))\n",
    "\n",
    "    model.train()\n",
    "    likelihood.train()\n",
    "    for i in tqdm(range(num_epochs)):\n",
    "        # Within each iteration, we will go over each minibatch of data\n",
    "        for x_batch, y_batch in train_loader:\n",
    "            optimizer.zero_grad()\n",
    "            output = model(x_batch)\n",
    "            loss = -mll(output, y_batch)\n",
    "            loss.backward()\n",
    "            optimizer.step()"
   ]
  },
  {
   "cell_type": "markdown",
   "id": "bb6b1ddf",
   "metadata": {
    "deletable": false,
    "editable": false,
    "nbgrader": {
     "cell_type": "markdown",
     "checksum": "18add06b55c8efd7bb6d7c9a7c63b533",
     "grade": false,
     "grade_id": "cell-f615d3eafce743e1",
     "locked": true,
     "schema_version": 3,
     "solution": false,
     "task": false
    }
   },
   "source": [
    "## Task 3b.4 - Define a function for evaluating the model and computing metrics (1.5p)\n",
    "When we predict the strength of a material, the absolute error is not the only metric we are interested in. We are going also to compute the accuracy of the model. We consider the prediction correct if the absolute error is less than two times the standard deviation, considering that the GP is a probabilistic model. Moreover, we are interested in quantifying the percentage of dangerous predictions. We consider a prediction dangerous if the model's lower confidence bound, i.e., the prediction minus two standard deviations, is higher than the actual value. This means that if the engineers use the lower confidence bound as a safety value for the strength of the material, they are still overestimating the strength, which may lead to undesired failures.\n",
    "\n",
    "\n",
    "Compute the following metrics.\n",
    "- Mean Absolute Error (MAE) on the train set\n",
    "- Mean Absolute Error (MAE) on the test set\n",
    "- Accuracy of the model on the train set (consider the prediction as correct if the absolute error is less than two times the standard deviation)\n",
    "- Accuracy of the model on the test set (consider the prediction as correct if the absolute error is less than two times the standard deviation)\n",
    "- Quantify the percentage of dangerous prediction, i.e., the prediction minus two standard deviations is higher than the actual value on the train set. \n",
    "- Quantify the percentage of dangerous prediction, i.e., the prediction minus two standard deviations is higher than the actual value, on the test set\n"
   ]
  },
  {
   "cell_type": "code",
   "execution_count": 18,
   "id": "43b25be6",
   "metadata": {
    "deletable": false,
    "nbgrader": {
     "cell_type": "code",
     "checksum": "a2d47e266d658db7902ff7e698ffd867",
     "grade": true,
     "grade_id": "cell-d857b199bf25d735",
     "locked": false,
     "points": 1.5,
     "schema_version": 3,
     "solution": true,
     "task": false
    }
   },
   "outputs": [],
   "source": [
    "def evaluate_model(likelihood, model):\n",
    "    # Get into evaluation (predictive posterior) mode\n",
    "    model.eval()\n",
    "    likelihood.eval()\n",
    "\n",
    "    # Evaluate the model on the test data\n",
    "    with torch.no_grad(), gpytorch.settings.fast_pred_var():\n",
    "        test_x_torch = torch.from_numpy(test_x).double()\n",
    "        test_y_torch = torch.from_numpy(test_y).double()\n",
    "\n",
    "        train_pred = likelihood(model(train_x_torch))\n",
    "        test_pred = likelihood(model(test_x_torch))\n",
    "\n",
    "        # YOUR CODE HERE\n",
    "        abs_diff_train = torch.abs(train_pred.mean - train_y_torch)\n",
    "        abs_diff_test = torch.abs(test_pred.mean - test_y_torch)\n",
    "        mae_train = torch.mean(abs_diff_train)\n",
    "        mae_test = torch.mean(abs_diff_test)\n",
    "\n",
    "        std_train = train_pred.stddev\n",
    "        std_test = test_pred.stddev\n",
    "\n",
    "        results_train = [1 if err < 2*std else 0 for err, std in zip(abs_diff_train, std_train)]\n",
    "        accuracy_train = np.sum(results_train) / len(results_train)\n",
    "    \n",
    "        results_test = [1 if err < 2*std else 0 for err, std in zip(abs_diff_test, std_test)]\n",
    "        accuracy_test = np.sum(results_test) / len(results_test)\n",
    "\n",
    "        danger_train = [1 if (pred.mean - 2*std) > gt else 0 for pred, gt, std in zip(train_pred, train_y_torch, std_train)]\n",
    "        danger_test = [1 if (pred.mean - 2*std) > gt else 0 for pred, gt, std in zip(test_pred, test_y_torch, std_test)]\n",
    "\n",
    "        dangerous_prediction_train = np.sum(danger_train) / len(danger_train)\n",
    "        dangerous_prediction_test = np.sum(danger_test) / len(danger_test)\n",
    "\n",
    "        print(f\"MAE on train set: {mae_train}\")\n",
    "        print(f\"MAE on test set: {mae_test}\")\n",
    "        print(f\"Accuracy on train set: {accuracy_train}\")\n",
    "        print(f\"Accuracy on test set: {accuracy_test}\")\n",
    "        print(\n",
    "            f\"Dangerous percentage prediction on train set: {dangerous_prediction_train}\"\n",
    "        )\n",
    "        print(\n",
    "            f\"Dangerous percentage prediction on test set {dangerous_prediction_test}\"\n",
    "        )\n",
    "\n",
    "        return train_pred, test_pred"
   ]
  },
  {
   "cell_type": "markdown",
   "id": "c577f03f",
   "metadata": {
    "deletable": false,
    "editable": false,
    "nbgrader": {
     "cell_type": "markdown",
     "checksum": "123e14c4765b46036359d36b8afb2abe",
     "grade": false,
     "grade_id": "cell-b78bf3bbaee489d2",
     "locked": true,
     "schema_version": 3,
     "solution": false,
     "task": false
    }
   },
   "source": [
    "## Task 3b.5 - Train and evaluate the `SVGPModel` with a constant mean (2.5)\n",
    "### Task 3b.5.1 - Initialize a constant mean model and the Gaussian Likelihood (0.5p)"
   ]
  },
  {
   "cell_type": "code",
   "execution_count": 19,
   "id": "e2f6d0aa",
   "metadata": {
    "deletable": false,
    "nbgrader": {
     "cell_type": "code",
     "checksum": "6329f21e03fadc9c0f387969c5eaa6dd",
     "grade": true,
     "grade_id": "cell-ce838438be8fda36",
     "locked": false,
     "points": 0.5,
     "schema_version": 3,
     "solution": true,
     "task": false
    }
   },
   "outputs": [
    {
     "data": {
      "application/vnd.jupyter.widget-view+json": {
       "model_id": "73904383f16b4c9ba0d719cf37129bc9",
       "version_major": 2,
       "version_minor": 0
      },
      "text/plain": [
       "  0%|          | 0/2000 [00:00<?, ?it/s]"
      ]
     },
     "metadata": {},
     "output_type": "display_data"
    }
   ],
   "source": [
    "# Set a random seed for reproducibility\n",
    "np.random.seed(43)\n",
    "\n",
    "# initialize the model\n",
    "# model_constant_mean =\n",
    "# likelihood_constant_mean =\n",
    "# YOUR CODE HERE\n",
    "model_constant_mean = SVGPModel(inducing_points, constant_mean=True)\n",
    "likelihood_constant_mean = gpytorch.likelihoods.GaussianLikelihood()\n",
    "\n",
    "model_constant_mean = model_constant_mean.double()\n",
    "likelihood_constant_mean = likelihood_constant_mean.double()\n",
    "\n",
    "# train the variational parameters\n",
    "train_variational_parameters(likelihood_constant_mean, model_constant_mean)"
   ]
  },
  {
   "cell_type": "markdown",
   "id": "c38a1342",
   "metadata": {
    "deletable": false,
    "editable": false,
    "nbgrader": {
     "cell_type": "markdown",
     "checksum": "554e780e22b08ee42ed16845103d6c84",
     "grade": false,
     "grade_id": "cell-cb961022f25dc296",
     "locked": true,
     "schema_version": 3,
     "solution": false,
     "task": false
    }
   },
   "source": [
    "### Task 3b.5.2 - Evaluate the model and print metrics (0.5p)"
   ]
  },
  {
   "cell_type": "code",
   "execution_count": 20,
   "id": "fdccf2a2",
   "metadata": {
    "deletable": false,
    "nbgrader": {
     "cell_type": "code",
     "checksum": "2e9fa364bedf41eb15b2c711ff72a6ec",
     "grade": true,
     "grade_id": "cell-6928ae580ad74ab9",
     "locked": false,
     "points": 0.5,
     "schema_version": 3,
     "solution": true,
     "task": false
    }
   },
   "outputs": [
    {
     "name": "stdout",
     "output_type": "stream",
     "text": [
      "MAE on train set: 3.4011420948638564\n",
      "MAE on test set: 6.37076736064785\n",
      "Accuracy on train set: 0.9223300970873787\n",
      "Accuracy on test set: 0.7572815533980582\n",
      "Dangerous percentage prediction on train set: 0.014563106796116505\n",
      "Dangerous percentage prediction on test set 0.0825242718446602\n"
     ]
    }
   ],
   "source": [
    "# Call the function to evaluate the model\n",
    "# train_pred_constant_mean, test_pred_constant_mean =\n",
    "# YOUR CODE HERE\n",
    "train_pred_constant_mean, test_pred_constant_mean = evaluate_model(likelihood_constant_mean, model_constant_mean)"
   ]
  },
  {
   "cell_type": "markdown",
   "id": "7d7aa183",
   "metadata": {
    "deletable": false,
    "editable": false,
    "nbgrader": {
     "cell_type": "markdown",
     "checksum": "67cfa98fc6dc441fa0668744768b1dda",
     "grade": false,
     "grade_id": "cell-c7e9855aaa27f18b",
     "locked": true,
     "schema_version": 3,
     "solution": false,
     "task": false
    }
   },
   "source": [
    "### Task 3b.5.3 - Print the horizontal and the vertical length scales, and the constant mean value (0.5p)"
   ]
  },
  {
   "cell_type": "code",
   "execution_count": 21,
   "id": "6c6ba027",
   "metadata": {
    "deletable": false,
    "nbgrader": {
     "cell_type": "code",
     "checksum": "da023fd95f3f0bbeb169723d34e5acc6",
     "grade": true,
     "grade_id": "cell-b3f9a306950753b9",
     "locked": false,
     "points": 0.5,
     "schema_version": 3,
     "solution": true,
     "task": false
    }
   },
   "outputs": [
    {
     "name": "stdout",
     "output_type": "stream",
     "text": [
      "Horizontal Lenghtscale of the kernel: \n",
      "tensor([[63.0121, 67.3710, 60.7005, 47.3606, 33.9531, 61.2664, 65.6763, 13.4028]],\n",
      "       dtype=torch.float64, grad_fn=<SoftplusBackward0>)\n",
      "Vertical Lengthscale of the kernel: \n",
      "33.00999683272075\n",
      "Constant mean value: \n",
      "24.045977619296625\n"
     ]
    }
   ],
   "source": [
    "print(\"Horizontal Lenghtscale of the kernel: \")\n",
    "# YOUR CODE HERE\n",
    "print(model_constant_mean.covar_module.base_kernel.lengthscale)\n",
    "\n",
    "print(\"Vertical Lengthscale of the kernel: \")\n",
    "# YOUR CODE HERE\n",
    "print(model_constant_mean.covar_module.raw_outputscale.item())\n",
    "\n",
    "print(\"Constant mean value: \")\n",
    "# YOUR CODE HERE\n",
    "print(model_constant_mean.mean_module.constant.item())"
   ]
  },
  {
   "cell_type": "markdown",
   "id": "8ab8384b",
   "metadata": {
    "deletable": false,
    "editable": false,
    "nbgrader": {
     "cell_type": "markdown",
     "checksum": "d5d7143b46d52e07193e554c30a5061b",
     "grade": false,
     "grade_id": "cell-e1d1af24aca2a8ae",
     "locked": true,
     "schema_version": 3,
     "solution": false,
     "task": false
    }
   },
   "source": [
    "### Task 3b.5.4 - Plot the predictions on the test set (0p)"
   ]
  },
  {
   "cell_type": "code",
   "execution_count": 22,
   "id": "fbcbec7b",
   "metadata": {
    "deletable": false,
    "editable": false,
    "nbgrader": {
     "cell_type": "code",
     "checksum": "df8194c155aeca0ffef1b306943a0601",
     "grade": false,
     "grade_id": "cell-3da8dc9038b9d08e",
     "locked": true,
     "schema_version": 3,
     "solution": false,
     "task": false
    }
   },
   "outputs": [
    {
     "data": {
      "application/vnd.jupyter.widget-view+json": {
       "model_id": "b245627bdf0c42e881c90dded089982e",
       "version_major": 2,
       "version_minor": 0
      },
      "image/png": "[encoded data removed]",
      "text/html": [
       "\n",
       "            <div style=\"display: inline-block;\">\n",
       "                <div class=\"jupyter-widgets widget-label\" style=\"text-align: center;\">\n",
       "                    Figure\n",
       "                </div>\n",
       "                <img src='data:image/png;base64,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' width=640.0/>\n",
       "            </div>\n",
       "        "
      ],
      "text/plain": [
       "Canvas(toolbar=Toolbar(toolitems=[('Home', 'Reset original view', 'home', 'home'), ('Back', 'Back to previous …"
      ]
     },
     "metadata": {},
     "output_type": "display_data"
    }
   ],
   "source": [
    "%matplotlib widget\n",
    "\n",
    "# Setting fig and ax variables as subplots()\n",
    "# function returns tuple(fig, ax)\n",
    "fig, ax = plt.subplots()\n",
    "\n",
    "# Adjust the bottom size according to the\n",
    "# requirement of the user\n",
    "plt.subplots_adjust(bottom=0.25)\n",
    "\n",
    "index = np.arange(test_y.shape[0])\n",
    "plt.errorbar(\n",
    "    index,\n",
    "    test_pred_constant_mean.mean.numpy(),\n",
    "    yerr=2 * test_pred_constant_mean.stddev.numpy(),\n",
    "    fmt=\"*\",\n",
    "    label=\"Predictions with uncertainty\",\n",
    ")\n",
    "plt.plot(index, test_y, \"o\", label=\"True values\")\n",
    "\n",
    "plt.title(\"Prediction on test set\")\n",
    "# Choose the Slider color\n",
    "slider_color = \"White\"\n",
    "\n",
    "# Set the axis and slider position in the plot\n",
    "axis_position = plt.axes([0.2, 0.1, 0.65, 0.03], facecolor=slider_color)\n",
    "slider_position = Slider(axis_position, \"Pos\", 0.1, 90.0)\n",
    "\n",
    "\n",
    "# update() function to change the graph when the\n",
    "# slider is in use\n",
    "def update(val):\n",
    "    pos = slider_position.val\n",
    "    ax.axis([pos, pos + 20, 0, 100])\n",
    "    fig.canvas.draw_idle()\n",
    "\n",
    "\n",
    "# update function called using on_changed() function\n",
    "slider_position.on_changed(update)\n",
    "\n",
    "# Display the plot\n",
    "plt.savefig(outputs_dir / \"task_3b-5-4_predictions_on_test_set.pdf\")\n",
    "plt.show()"
   ]
  },
  {
   "cell_type": "markdown",
   "id": "7768b26c",
   "metadata": {
    "deletable": false,
    "editable": false,
    "nbgrader": {
     "cell_type": "markdown",
     "checksum": "275857537168d718574ed30f01de75f3",
     "grade": false,
     "grade_id": "cell-bf8dca82183883b9",
     "locked": true,
     "schema_version": 3,
     "solution": false,
     "task": false
    }
   },
   "source": [
    "## Task 3b.6 - Train and evaluate the `SVGPModel` with zero mean (0p)"
   ]
  },
  {
   "cell_type": "code",
   "execution_count": 23,
   "id": "8ed3992c",
   "metadata": {
    "deletable": false,
    "nbgrader": {
     "cell_type": "code",
     "checksum": "339f5041515ce08cec195743430d6a42",
     "grade": true,
     "grade_id": "cell-6b0ddd961eed0731",
     "locked": false,
     "points": 0,
     "schema_version": 3,
     "solution": true,
     "task": false
    }
   },
   "outputs": [
    {
     "data": {
      "application/vnd.jupyter.widget-view+json": {
       "model_id": "1c37d31c39cb4174a5e28650acfc0f15",
       "version_major": 2,
       "version_minor": 0
      },
      "text/plain": [
       "  0%|          | 0/2000 [00:00<?, ?it/s]"
      ]
     },
     "metadata": {},
     "output_type": "display_data"
    },
    {
     "name": "stdout",
     "output_type": "stream",
     "text": [
      "MAE on train set: 3.436429368938425\n",
      "MAE on test set: 6.907745755389679\n",
      "Accuracy on train set: 0.9296116504854369\n",
      "Accuracy on test set: 0.7912621359223301\n",
      "Dangerous percentage prediction on train set: 0.01699029126213592\n",
      "Dangerous percentage prediction on test set 0.05825242718446602\n"
     ]
    }
   ],
   "source": [
    "# Set a random seed for reproducibility\n",
    "np.random.seed(43)\n",
    "\n",
    "# Define the model (with a zero mean) and the likelihood\n",
    "# model_zero_mean =\n",
    "# likelihood_zero_mean =\n",
    "# YOUR CODE HERE\n",
    "model_zero_mean = SVGPModel(inducing_points)\n",
    "likelihood_zero_mean = gpytorch.likelihoods.GaussianLikelihood()\n",
    "\n",
    "model_zero_mean = model_zero_mean.double()\n",
    "likelihood_zero_mean = likelihood_zero_mean.double()\n",
    "\n",
    "# Call the function to train the variational parameters\n",
    "# YOUR CODE HERE\n",
    "train_variational_parameters(likelihood_zero_mean, model_zero_mean)\n",
    "\n",
    "# Call the function to evaluate the model\n",
    "# train_pred_zero_mean, test_pred_zero_mean =\n",
    "# YOUR CODE HERE\n",
    "train_pred_zero_mean, test_pred_zero_mean = evaluate_model(likelihood_zero_mean, model_zero_mean)"
   ]
  },
  {
   "cell_type": "code",
   "execution_count": null,
   "id": "caaa5b45",
   "metadata": {},
   "outputs": [],
   "source": [
    "MAE on train set: 3.4011420948638564\n",
    "MAE on test set: 6.37076736064785\n",
    "Accuracy on train set: 0.9223300970873787\n",
    "Accuracy on test set: 0.7572815533980582\n",
    "Dangerous percentage prediction on train set: 0.014563106796116505\n",
    "Dangerous percentage prediction on test set 0.0825242718446602"
   ]
  },
  {
   "cell_type": "markdown",
   "id": "baa68348",
   "metadata": {
    "deletable": false,
    "editable": false,
    "nbgrader": {
     "cell_type": "markdown",
     "checksum": "98ece5c37100f0edc550022008dc644f",
     "grade": false,
     "grade_id": "cell-02030cafaad31dd1",
     "locked": true,
     "schema_version": 3,
     "solution": false,
     "task": false
    }
   },
   "source": [
    "## Task 3b.7 - Comparison of the two models (1p)\n",
    "Comment on the difference between the predictions of the two sparse GP models (i.e., the one with constant and zero mean). Discuss the effect of the mean function, in particular, on the safety of the predictions."
   ]
  },
  {
   "cell_type": "markdown",
   "id": "3d2530f2",
   "metadata": {
    "deletable": false,
    "nbgrader": {
     "cell_type": "markdown",
     "checksum": "df3770672571ee1d1716bca3d394d417",
     "grade": true,
     "grade_id": "cell-92aa665e40398770",
     "locked": false,
     "points": 1,
     "schema_version": 3,
     "solution": true,
     "task": false
    }
   },
   "source": [
    "The zero mean model has slightly better performance compared to constant mean. Even though its MAE on the test set is higher it has higher accuracy on both the training and test set, and also lower proportions of dangerous predictions."
   ]
  }
 ],
 "metadata": {
  "kernelspec": {
   "display_name": "Python 3 (ipykernel)",
   "language": "python",
   "name": "python3"
  },
  "language_info": {
   "codemirror_mode": {
    "name": "ipython",
    "version": 3
   },
   "file_extension": ".py",
   "mimetype": "text/x-python",
   "name": "python",
   "nbconvert_exporter": "python",
   "pygments_lexer": "ipython3",
   "version": "3.11.8"
  }
 },
 "nbformat": 4,
 "nbformat_minor": 5
}
