{
 "cells": [
  {
   "cell_type": "markdown",
   "id": "ac408b5e",
   "metadata": {
    "deletable": false,
    "editable": false,
    "nbgrader": {
     "cell_type": "markdown",
     "checksum": "7619294def77410a539e618e2428f0d5",
     "grade": false,
     "grade_id": "cell-b00828259c8e42e8",
     "locked": true,
     "schema_version": 3,
     "solution": false,
     "task": false
    }
   },
   "source": [
    "# RO47019: Intelligent Control Systems Practical Assignment\n",
    "* Period: 2023-2024, Q3\n",
    "* Course homepage: https://brightspace.tudelft.nl/d2l/home/500969\n",
    "* Instructor: Cosimo Della Santina (C.DellaSantina@tudelft.nl)\n",
    "* Teaching assistant: Maria de Neves de Fonseca (M.deNevesdeFonseca-1@student.tudelft.nl)\n",
    "* (c) TU Delft, 2024\n",
    "\n",
    "Make sure you fill in any place that says `YOUR CODE HERE` or `YOUR ANSWER HERE`. Remove `raise NotImplementedError()` afterwards. Moreover, if you see an empty cell, please DO NOT delete it, instead run that cell as you would run all other cells. Please fill in your name(s) and other required details below:"
   ]
  },
  {
   "cell_type": "code",
   "execution_count": 1,
   "id": "4f9e220c",
   "metadata": {},
   "outputs": [],
   "source": [
    "# Please fill in your names, student numbers, netID, and emails below.\n",
    "STUDENT_1_NAME = \"Zhengyang Lu\"\n",
    "STUDENT_1_STUDENT_NUMBER = \"5074428\"\n",
    "STUDENT_1_NETID = \"zhengyanglu\"\n",
    "STUDENT_1_EMAIL = \"Z.lu-5@student.tudelft.nl\""
   ]
  },
  {
   "cell_type": "code",
   "execution_count": 2,
   "id": "8ba32571",
   "metadata": {
    "deletable": false,
    "editable": false,
    "nbgrader": {
     "cell_type": "code",
     "checksum": "042927213b84aa368aa3ea72caa4cb60",
     "grade": true,
     "grade_id": "cell-9f148ec62e0de49c",
     "locked": true,
     "points": 0,
     "schema_version": 3,
     "solution": false,
     "task": false
    }
   },
   "outputs": [],
   "source": [
    "# Note: this block is a check that you have filled in the above information.\n",
    "# It will throw an AssertionError until all fields are filled\n",
    "assert STUDENT_1_NAME != \"\"\n",
    "assert STUDENT_1_STUDENT_NUMBER != \"\"\n",
    "assert STUDENT_1_NETID != \"\"\n",
    "assert STUDENT_1_EMAIL != \"\""
   ]
  },
  {
   "cell_type": "markdown",
   "id": "af317a94",
   "metadata": {
    "deletable": false,
    "editable": false,
    "nbgrader": {
     "cell_type": "markdown",
     "checksum": "95c5b11f9ac3896252d342cabb38d867",
     "grade": false,
     "grade_id": "cell-4ea391677951116c",
     "locked": true,
     "schema_version": 3,
     "solution": false,
     "task": false
    }
   },
   "source": [
    "### General announcements\n",
    "\n",
    "* Do *not* share your solutions (also after the course is finished), and do *not* copy solutions from others. By submitting your solutions, you claim that you alone are responsible for this code.\n",
    "\n",
    "* Do *not* email questions directly, since we want to provide everybody with the same information and avoid repeating the same answers. Instead, please post your questions regarding this assignment in the correct support forum on Brightspace, this way everybody can benefit from the response. If you do have a particular question that you want to ask directly, please use the scheduled Q&A hours to ask the TA.\n",
    "\n",
    "* There is a strict deadline for each assignment. Students are responsible to ensure that they have uploaded their work in time. So, please double check that your upload succeeded to the Brightspace and avoid any late penalties.\n",
    "\n",
    "* This [Jupyter notebook](https://jupyter.org/) uses `nbgrader` to help us with automated tests. `nbgrader` will make various cells in this notebook \"uneditable\" or \"unremovable\" and gives them a special id in the cell metadata. This way, when we run our checks, the system will check the existence of the cell ids and verify the number of points and which checks must be run. While there are ways that you can edit the metadata and work around the restrictions to delete or modify these special cells, you should not do that since then our nbgrader backend will not be able to parse your notebook and give you points for the assignment. You are free to add additional cells, but if you find a cell that you cannot modify or remove, please know that this is on purpose.\n",
    "\n",
    "* This notebook will have in various places a line that throws a `NotImplementedError` exception. These are locations where the assignment requires you to adapt the code! These lines are just there as a reminder for you that you have not yet adapted that particular piece of code, especially when you execute all the cells. Once your solution code replaced these lines, it should accordingly *not* throw any exceptions anymore.\n",
    "\n",
    "Before you turn this problem in, make sure everything runs as expected. First, **restart the kernel** (in the menubar, select Kernel$\\rightarrow$Restart) and then **run all cells** (in the menubar, select Cell$\\rightarrow$Run All)."
   ]
  },
  {
   "cell_type": "code",
   "execution_count": null,
   "id": "3c956945",
   "metadata": {},
   "outputs": [],
   "source": []
  },
  {
   "cell_type": "markdown",
   "id": "12af8b2f",
   "metadata": {
    "deletable": false,
    "editable": false,
    "nbgrader": {
     "cell_type": "markdown",
     "checksum": "a29dd387c402d3428f4cfdae33fc86cc",
     "grade": false,
     "grade_id": "cell-09ee0d8744e5ae05",
     "locked": true,
     "schema_version": 3,
     "solution": false,
     "task": false
    }
   },
   "source": [
    "# Task 3b - Familiarization with Multi-Input Single output GPs (5p) (Bonus)\n",
    "**Authors:** Giovanni Franzese (G.Franzese@tudelft.nl), Lorenzo Lyons (L.Lyons@tudelft.nl)"
   ]
  },
  {
   "cell_type": "code",
   "execution_count": 3,
   "id": "0f4ceacc",
   "metadata": {
    "deletable": false,
    "editable": false,
    "nbgrader": {
     "cell_type": "code",
     "checksum": "580d23f30196d59b4f4026cd53525f23",
     "grade": false,
     "grade_id": "cell-ba3273c841494da7",
     "locked": true,
     "schema_version": 3,
     "solution": false,
     "task": false
    }
   },
   "outputs": [],
   "source": [
    "import gpytorch\n",
    "from gpytorch.models import ApproximateGP\n",
    "from gpytorch.variational import CholeskyVariationalDistribution\n",
    "from gpytorch.variational import VariationalStrategy\n",
    "import matplotlib.pyplot as plt\n",
    "from matplotlib.widgets import Slider\n",
    "import numpy as np\n",
    "import pandas as pd\n",
    "from pathlib import Path\n",
    "import torch\n",
    "from torch.utils.data import TensorDataset, DataLoader\n",
    "from tqdm.notebook import tqdm  # progress bar\n",
    "\n",
    "# define folder where to save animations and plots\n",
    "outputs_dir = Path(\"outputs\")\n",
    "outputs_dir.mkdir(parents=True, exist_ok=True)"
   ]
  },
  {
   "cell_type": "markdown",
   "id": "549d3167",
   "metadata": {
    "deletable": false,
    "editable": false,
    "nbgrader": {
     "cell_type": "markdown",
     "checksum": "e83e0ef63ba046a0f3056ff765a0b1d1",
     "grade": false,
     "grade_id": "cell-a465b1b75d945b2b",
     "locked": true,
     "schema_version": 3,
     "solution": false,
     "task": false
    }
   },
   "source": [
    "## Task 3b.1 - Load the dataset with concrete data (0p)"
   ]
  },
  {
   "cell_type": "code",
   "execution_count": 4,
   "id": "5b58cdd3",
   "metadata": {
    "deletable": false,
    "editable": false,
    "nbgrader": {
     "cell_type": "code",
     "checksum": "3ff58139f3f2857e51d8ca4a032ea0a8",
     "grade": false,
     "grade_id": "cell-c30144953f9790f1",
     "locked": true,
     "schema_version": 3,
     "solution": false,
     "task": false
    }
   },
   "outputs": [
    {
     "data": {
      "text/html": [
       "<div>\n",
       "<style scoped>\n",
       "    .dataframe tbody tr th:only-of-type {\n",
       "        vertical-align: middle;\n",
       "    }\n",
       "\n",
       "    .dataframe tbody tr th {\n",
       "        vertical-align: top;\n",
       "    }\n",
       "\n",
       "    .dataframe thead th {\n",
       "        text-align: right;\n",
       "    }\n",
       "</style>\n",
       "<table border=\"1\" class=\"dataframe\">\n",
       "  <thead>\n",
       "    <tr style=\"text-align: right;\">\n",
       "      <th></th>\n",
       "      <th>Cement (component 1)(kg in a m^3 mixture)</th>\n",
       "      <th>Blast Furnace Slag (component 2)(kg in a m^3 mixture)</th>\n",
       "      <th>Fly Ash (component 3)(kg in a m^3 mixture)</th>\n",
       "      <th>Water  (component 4)(kg in a m^3 mixture)</th>\n",
       "      <th>Superplasticizer (component 5)(kg in a m^3 mixture)</th>\n",
       "      <th>Coarse Aggregate  (component 6)(kg in a m^3 mixture)</th>\n",
       "      <th>Fine Aggregate (component 7)(kg in a m^3 mixture)</th>\n",
       "      <th>Age (day)</th>\n",
       "      <th>Concrete compressive strength(MPa, megapascals)</th>\n",
       "    </tr>\n",
       "  </thead>\n",
       "  <tbody>\n",
       "    <tr>\n",
       "      <th>0</th>\n",
       "      <td>540.0</td>\n",
       "      <td>0.0</td>\n",
       "      <td>0.0</td>\n",
       "      <td>162.0</td>\n",
       "      <td>2.5</td>\n",
       "      <td>1040.0</td>\n",
       "      <td>676.0</td>\n",
       "      <td>28</td>\n",
       "      <td>79.99</td>\n",
       "    </tr>\n",
       "    <tr>\n",
       "      <th>1</th>\n",
       "      <td>540.0</td>\n",
       "      <td>0.0</td>\n",
       "      <td>0.0</td>\n",
       "      <td>162.0</td>\n",
       "      <td>2.5</td>\n",
       "      <td>1055.0</td>\n",
       "      <td>676.0</td>\n",
       "      <td>28</td>\n",
       "      <td>61.89</td>\n",
       "    </tr>\n",
       "    <tr>\n",
       "      <th>2</th>\n",
       "      <td>332.5</td>\n",
       "      <td>142.5</td>\n",
       "      <td>0.0</td>\n",
       "      <td>228.0</td>\n",
       "      <td>0.0</td>\n",
       "      <td>932.0</td>\n",
       "      <td>594.0</td>\n",
       "      <td>270</td>\n",
       "      <td>40.27</td>\n",
       "    </tr>\n",
       "    <tr>\n",
       "      <th>3</th>\n",
       "      <td>332.5</td>\n",
       "      <td>142.5</td>\n",
       "      <td>0.0</td>\n",
       "      <td>228.0</td>\n",
       "      <td>0.0</td>\n",
       "      <td>932.0</td>\n",
       "      <td>594.0</td>\n",
       "      <td>365</td>\n",
       "      <td>41.05</td>\n",
       "    </tr>\n",
       "    <tr>\n",
       "      <th>4</th>\n",
       "      <td>198.6</td>\n",
       "      <td>132.4</td>\n",
       "      <td>0.0</td>\n",
       "      <td>192.0</td>\n",
       "      <td>0.0</td>\n",
       "      <td>978.4</td>\n",
       "      <td>825.5</td>\n",
       "      <td>360</td>\n",
       "      <td>44.30</td>\n",
       "    </tr>\n",
       "  </tbody>\n",
       "</table>\n",
       "</div>"
      ],
      "text/plain": [
       "   Cement (component 1)(kg in a m^3 mixture)  \\\n",
       "0                                      540.0   \n",
       "1                                      540.0   \n",
       "2                                      332.5   \n",
       "3                                      332.5   \n",
       "4                                      198.6   \n",
       "\n",
       "   Blast Furnace Slag (component 2)(kg in a m^3 mixture)  \\\n",
       "0                                                0.0       \n",
       "1                                                0.0       \n",
       "2                                              142.5       \n",
       "3                                              142.5       \n",
       "4                                              132.4       \n",
       "\n",
       "   Fly Ash (component 3)(kg in a m^3 mixture)  \\\n",
       "0                                         0.0   \n",
       "1                                         0.0   \n",
       "2                                         0.0   \n",
       "3                                         0.0   \n",
       "4                                         0.0   \n",
       "\n",
       "   Water  (component 4)(kg in a m^3 mixture)  \\\n",
       "0                                      162.0   \n",
       "1                                      162.0   \n",
       "2                                      228.0   \n",
       "3                                      228.0   \n",
       "4                                      192.0   \n",
       "\n",
       "   Superplasticizer (component 5)(kg in a m^3 mixture)  \\\n",
       "0                                                2.5     \n",
       "1                                                2.5     \n",
       "2                                                0.0     \n",
       "3                                                0.0     \n",
       "4                                                0.0     \n",
       "\n",
       "   Coarse Aggregate  (component 6)(kg in a m^3 mixture)  \\\n",
       "0                                             1040.0      \n",
       "1                                             1055.0      \n",
       "2                                              932.0      \n",
       "3                                              932.0      \n",
       "4                                              978.4      \n",
       "\n",
       "   Fine Aggregate (component 7)(kg in a m^3 mixture)  Age (day)  \\\n",
       "0                                              676.0         28   \n",
       "1                                              676.0         28   \n",
       "2                                              594.0        270   \n",
       "3                                              594.0        365   \n",
       "4                                              825.5        360   \n",
       "\n",
       "   Concrete compressive strength(MPa, megapascals)   \n",
       "0                                             79.99  \n",
       "1                                             61.89  \n",
       "2                                             40.27  \n",
       "3                                             41.05  \n",
       "4                                             44.30  "
      ]
     },
     "execution_count": 4,
     "metadata": {},
     "output_type": "execute_result"
    }
   ],
   "source": [
    "data = pd.read_csv(Path(\"datasets\") / \"Concrete_Data.csv\")\n",
    "data.head()"
   ]
  },
  {
   "cell_type": "markdown",
   "id": "dc529d6e",
   "metadata": {
    "deletable": false,
    "editable": false,
    "nbgrader": {
     "cell_type": "markdown",
     "checksum": "06c5e2b7505739407c82ae714b414efa",
     "grade": false,
     "grade_id": "cell-de085ea88ff5f270",
     "locked": true,
     "schema_version": 3,
     "solution": false,
     "task": false
    }
   },
   "source": [
    "In this task, we will use the dataset with concrete data. The dataset is available in the file `concrete_data.csv`. The dataset contains 8 input variables and 1 output variable. The input variables are Cement, Blast Furnace Slag, Fly Ash, Water, Superplasticizer, Coarse Aggregate, Fine Aggregate, and Age. The output variable is the compressive strength of the concrete. \n",
    "We want to use a Gaussian Process to model the compressive strength of the concrete as a function of the other variables. Such a model can be useful in designing concrete mixtures or predicting the strength given the mixture properties. \n",
    "Let's divide the dataset into the training (80 %) and test (20 %) sets. We also initialize the 300 inducing points as randomly selected from the training set."
   ]
  },
  {
   "cell_type": "code",
   "execution_count": 5,
   "id": "aea63a25",
   "metadata": {
    "deletable": false,
    "editable": false,
    "nbgrader": {
     "cell_type": "code",
     "checksum": "a3920ba44548f7130d30a6376320fdda",
     "grade": false,
     "grade_id": "cell-e6817cbb93d174b4",
     "locked": true,
     "schema_version": 3,
     "solution": false,
     "task": false
    }
   },
   "outputs": [],
   "source": [
    "# Extract X and Y from the dataframe and convert to numpy arrays\n",
    "data_numpy = data.to_numpy()\n",
    "X = data_numpy[:, :-1]\n",
    "Y = data_numpy[:, -1]\n",
    "\n",
    "# Assuming X and Y are your features and labels, respectively\n",
    "# Let's say you have 80% of the data for training and 20% for testing\n",
    "\n",
    "# Set a random seed for reproducibility\n",
    "np.random.seed(42)\n",
    "\n",
    "# Get the number of samples in your dataset\n",
    "num_samples = len(X)\n",
    "\n",
    "# Define the percentage split\n",
    "train_percentage = 0.8\n",
    "\n",
    "# Calculate the number of samples for training\n",
    "num_train_samples = int(train_percentage * num_samples)\n",
    "\n",
    "# Generate random indices for the training set\n",
    "train_indices = np.random.choice(num_samples, num_train_samples, replace=False)\n",
    "\n",
    "# Use the remaining indices for the test set\n",
    "test_indices = np.setdiff1d(np.arange(num_samples), train_indices)\n",
    "\n",
    "# Split the data based on the generated indices\n",
    "train_x, train_y = X[train_indices], Y[train_indices]\n",
    "test_x, test_y = X[test_indices], Y[test_indices]\n",
    "\n",
    "# create the training dataloader\n",
    "train_x_torch = torch.from_numpy(train_x).double()\n",
    "train_y_torch = torch.from_numpy(train_y).double()\n",
    "train_dataset = TensorDataset(train_x_torch, train_y_torch)\n",
    "train_loader = DataLoader(train_dataset, batch_size=256, shuffle=True)\n",
    "\n",
    "# pick inducing points randomly from the training data\n",
    "num_inducing_points = 300\n",
    "inducing_points_index = np.random.choice(\n",
    "    num_train_samples, num_inducing_points, replace=False\n",
    ")\n",
    "inducing_points = torch.from_numpy(train_x[inducing_points_index, :]).double()"
   ]
  },
  {
   "cell_type": "markdown",
   "id": "11fdb410",
   "metadata": {
    "deletable": false,
    "editable": false,
    "nbgrader": {
     "cell_type": "markdown",
     "checksum": "fe9f2ec162952480bf5e187e493417ba",
     "grade": false,
     "grade_id": "cell-35010650535c774e",
     "locked": true,
     "schema_version": 3,
     "solution": false,
     "task": false
    }
   },
   "source": [
    "## Task 3b.2 - Construct a Sparse Gaussian Process with Multiple-Input Single Output (0.5p)\n",
    "Choose the Zero mean or the constant mean according to the if/else statement of the class. Choose the kernel to be an RBF kernel with ARD (0.5p). In GPytorch, the ARD is implemented by setting the `ard_num_dims` parameter of the kernel to the number of input features."
   ]
  },
  {
   "cell_type": "code",
   "execution_count": 6,
   "id": "dd4c36d4",
   "metadata": {
    "deletable": false,
    "nbgrader": {
     "cell_type": "code",
     "checksum": "d06bca671c5fb28b5452b59952d11d74",
     "grade": true,
     "grade_id": "cell-7665366ef6109e2e",
     "locked": false,
     "points": 0.5,
     "schema_version": 3,
     "solution": true,
     "task": false
    }
   },
   "outputs": [],
   "source": [
    "class SVGPModel(ApproximateGP):\n",
    "    def __init__(self, inducing_points, constant_mean=False):\n",
    "        variational_distribution = CholeskyVariationalDistribution(\n",
    "            inducing_points.size(0)\n",
    "        )\n",
    "        variational_strategy = VariationalStrategy(\n",
    "            self,\n",
    "            inducing_points,\n",
    "            variational_distribution,\n",
    "            learn_inducing_locations=True,\n",
    "        )\n",
    "        super(SVGPModel, self).__init__(variational_strategy)\n",
    "        if constant_mean:\n",
    "            # self.mean_module =\n",
    "            # YOUR CODE HERE\n",
    "            self.mean_module = gpytorch.means.ConstantMean()\n",
    "        else:  # Zero mean\n",
    "            # self.mean_module =\n",
    "            # YOUR CODE HERE\n",
    "            self.mean_module = gpytorch.means.ZeroMean()\n",
    "\n",
    "        # Use a RBF kernel with automatic relevance determination (ARD)\n",
    "        # YOUR CODE HERE\n",
    "        self.covar_module = gpytorch.kernels.ScaleKernel(gpytorch.kernels.RBFKernel(ard_num_dims=inducing_points.size(1)))\n",
    "\n",
    "    def forward(self, x):\n",
    "        mean_x = self.mean_module(x)\n",
    "        covar_x = self.covar_module(x)\n",
    "        return gpytorch.distributions.MultivariateNormal(mean_x, covar_x)"
   ]
  },
  {
   "cell_type": "markdown",
   "id": "eb140063",
   "metadata": {
    "deletable": false,
    "editable": false,
    "nbgrader": {
     "cell_type": "markdown",
     "checksum": "781d0feb35104574353616828c2cbf53",
     "grade": false,
     "grade_id": "cell-fb812c2182ac28c5",
     "locked": true,
     "schema_version": 3,
     "solution": false,
     "task": false
    }
   },
   "source": [
    "## Task 3b.3 - Design a function for training the variational parameters (0.5p)\n",
    "Correctly define the marginal log-likelihood, considering our model is an approximate SVGP."
   ]
  },
  {
   "cell_type": "code",
   "execution_count": 7,
   "id": "ceca296f",
   "metadata": {
    "deletable": false,
    "nbgrader": {
     "cell_type": "code",
     "checksum": "c81553f91a33975edd902da0b6b55ecd",
     "grade": true,
     "grade_id": "cell-10b461dbe4e562bc",
     "locked": false,
     "points": 0.5,
     "schema_version": 3,
     "solution": true,
     "task": false
    }
   },
   "outputs": [],
   "source": [
    "def train_variational_parameters(likelihood, model, num_epochs: int = 2000):\n",
    "    optimizer = torch.optim.Adam(\n",
    "        [\n",
    "            {\"params\": model.parameters()},\n",
    "            {\"params\": likelihood.parameters()},\n",
    "        ],\n",
    "        lr=0.01,\n",
    "    )\n",
    "\n",
    "    # Our loss object. We're using the VariationalELBO\n",
    "    # mll =\n",
    "    # YOUR CODE HERE\n",
    "    mll = gpytorch.mlls.VariationalELBO(likelihood, model, num_data=train_y_torch.size(0))\n",
    "\n",
    "    model.train()\n",
    "    likelihood.train()\n",
    "    for i in tqdm(range(num_epochs)):\n",
    "        # Within each iteration, we will go over each minibatch of data\n",
    "        for x_batch, y_batch in train_loader:\n",
    "            optimizer.zero_grad()\n",
    "            output = model(x_batch)\n",
    "            loss = -mll(output, y_batch)\n",
    "            loss.backward()\n",
    "            optimizer.step()"
   ]
  },
  {
   "cell_type": "markdown",
   "id": "bb6b1ddf",
   "metadata": {
    "deletable": false,
    "editable": false,
    "nbgrader": {
     "cell_type": "markdown",
     "checksum": "18add06b55c8efd7bb6d7c9a7c63b533",
     "grade": false,
     "grade_id": "cell-f615d3eafce743e1",
     "locked": true,
     "schema_version": 3,
     "solution": false,
     "task": false
    }
   },
   "source": [
    "## Task 3b.4 - Define a function for evaluating the model and computing metrics (1.5p)\n",
    "When we predict the strength of a material, the absolute error is not the only metric we are interested in. We are going also to compute the accuracy of the model. We consider the prediction correct if the absolute error is less than two times the standard deviation, considering that the GP is a probabilistic model. Moreover, we are interested in quantifying the percentage of dangerous predictions. We consider a prediction dangerous if the model's lower confidence bound, i.e., the prediction minus two standard deviations, is higher than the actual value. This means that if the engineers use the lower confidence bound as a safety value for the strength of the material, they are still overestimating the strength, which may lead to undesired failures.\n",
    "\n",
    "\n",
    "Compute the following metrics.\n",
    "- Mean Absolute Error (MAE) on the train set\n",
    "- Mean Absolute Error (MAE) on the test set\n",
    "- Accuracy of the model on the train set (consider the prediction as correct if the absolute error is less than two times the standard deviation)\n",
    "- Accuracy of the model on the test set (consider the prediction as correct if the absolute error is less than two times the standard deviation)\n",
    "- Quantify the percentage of dangerous prediction, i.e., the prediction minus two standard deviations is higher than the actual value on the train set. \n",
    "- Quantify the percentage of dangerous prediction, i.e., the prediction minus two standard deviations is higher than the actual value, on the test set\n"
   ]
  },
  {
   "cell_type": "code",
   "execution_count": 8,
   "id": "43b25be6",
   "metadata": {
    "deletable": false,
    "nbgrader": {
     "cell_type": "code",
     "checksum": "a2d47e266d658db7902ff7e698ffd867",
     "grade": true,
     "grade_id": "cell-d857b199bf25d735",
     "locked": false,
     "points": 1.5,
     "schema_version": 3,
     "solution": true,
     "task": false
    }
   },
   "outputs": [],
   "source": [
    "def evaluate_model(likelihood, model):\n",
    "    # Get into evaluation (predictive posterior) mode\n",
    "    model.eval()\n",
    "    likelihood.eval()\n",
    "\n",
    "    # Evaluate the model on the test data\n",
    "    with torch.no_grad(), gpytorch.settings.fast_pred_var():\n",
    "        test_x_torch = torch.from_numpy(test_x).double()\n",
    "        test_y_torch = torch.from_numpy(test_y).double()\n",
    "\n",
    "        train_pred = likelihood(model(train_x_torch))\n",
    "        test_pred = likelihood(model(test_x_torch))\n",
    "\n",
    "        # YOUR CODE HERE\n",
    "        abs_diff_train = torch.abs(train_pred.mean - train_y_torch)\n",
    "        abs_diff_test = torch.abs(test_pred.mean - test_y_torch)\n",
    "        mae_train = torch.mean(abs_diff_train)\n",
    "        mae_test = torch.mean(abs_diff_test)\n",
    "\n",
    "        std_train = train_y_torch.std()\n",
    "        std_test = test_y_torch.std()\n",
    "\n",
    "        results_train = [1 if err < 2*std_train else 0 for err in abs_diff_train]\n",
    "        accuracy_train = np.sum(results_train) / len(results_train)\n",
    "    \n",
    "        results_test = [1 if err < 2*std_test else 0 for err in abs_diff_test]\n",
    "        accuracy_test = np.sum(results_test) / len(results_test)\n",
    "\n",
    "        danger_train = [1 if (pred.mean - 2*std_train) > gt else 0 for pred, gt in zip(train_pred, train_y_torch)]\n",
    "        danger_test = [1 if (pred.mean - 2*std_test) > gt else 0 for pred, gt in zip(test_pred, test_y_torch)]\n",
    "\n",
    "        dangerous_prediction_train = np.sum(danger_train) / len(danger_train)\n",
    "        dangerous_prediction_test = np.sum(danger_test) / len(danger_test)\n",
    "\n",
    "        print(f\"MAE on train set: {mae_train}\")\n",
    "        print(f\"MAE on test set: {mae_test}\")\n",
    "        print(f\"Accuracy on train set: {accuracy_train}\")\n",
    "        print(f\"Accuracy on test set: {accuracy_test}\")\n",
    "        print(\n",
    "            f\"Dangerous percentage prediction on train set: {dangerous_prediction_train}\"\n",
    "        )\n",
    "        print(\n",
    "            f\"Dangerous percentage prediction on test set {dangerous_prediction_test}\"\n",
    "        )\n",
    "\n",
    "        return train_pred, test_pred"
   ]
  },
  {
   "cell_type": "markdown",
   "id": "c577f03f",
   "metadata": {
    "deletable": false,
    "editable": false,
    "nbgrader": {
     "cell_type": "markdown",
     "checksum": "123e14c4765b46036359d36b8afb2abe",
     "grade": false,
     "grade_id": "cell-b78bf3bbaee489d2",
     "locked": true,
     "schema_version": 3,
     "solution": false,
     "task": false
    }
   },
   "source": [
    "## Task 3b.5 - Train and evaluate the `SVGPModel` with a constant mean (2.5)\n",
    "### Task 3b.5.1 - Initialize a constant mean model and the Gaussian Likelihood (0.5p)"
   ]
  },
  {
   "cell_type": "code",
   "execution_count": 9,
   "id": "e2f6d0aa",
   "metadata": {
    "deletable": false,
    "nbgrader": {
     "cell_type": "code",
     "checksum": "6329f21e03fadc9c0f387969c5eaa6dd",
     "grade": true,
     "grade_id": "cell-ce838438be8fda36",
     "locked": false,
     "points": 0.5,
     "schema_version": 3,
     "solution": true,
     "task": false
    }
   },
   "outputs": [
    {
     "data": {
      "application/vnd.jupyter.widget-view+json": {
       "model_id": "a8b124b7869c42baafcd517606a40ff2",
       "version_major": 2,
       "version_minor": 0
      },
      "text/plain": [
       "  0%|          | 0/2000 [00:00<?, ?it/s]"
      ]
     },
     "metadata": {},
     "output_type": "display_data"
    }
   ],
   "source": [
    "# Set a random seed for reproducibility\n",
    "np.random.seed(43)\n",
    "\n",
    "# initialize the model\n",
    "# model_constant_mean =\n",
    "# likelihood_constant_mean =\n",
    "# YOUR CODE HERE\n",
    "model_constant_mean = SVGPModel(inducing_points, constant_mean=True)\n",
    "likelihood_constant_mean = gpytorch.likelihoods.GaussianLikelihood()\n",
    "\n",
    "model_constant_mean = model_constant_mean.double()\n",
    "likelihood_constant_mean = likelihood_constant_mean.double()\n",
    "\n",
    "# train the variational parameters\n",
    "train_variational_parameters(likelihood_constant_mean, model_constant_mean)"
   ]
  },
  {
   "cell_type": "markdown",
   "id": "c38a1342",
   "metadata": {
    "deletable": false,
    "editable": false,
    "nbgrader": {
     "cell_type": "markdown",
     "checksum": "554e780e22b08ee42ed16845103d6c84",
     "grade": false,
     "grade_id": "cell-cb961022f25dc296",
     "locked": true,
     "schema_version": 3,
     "solution": false,
     "task": false
    }
   },
   "source": [
    "### Task 3b.5.2 - Evaluate the model and print metrics (0.5p)"
   ]
  },
  {
   "cell_type": "code",
   "execution_count": 14,
   "id": "fdccf2a2",
   "metadata": {
    "deletable": false,
    "nbgrader": {
     "cell_type": "code",
     "checksum": "2e9fa364bedf41eb15b2c711ff72a6ec",
     "grade": true,
     "grade_id": "cell-6928ae580ad74ab9",
     "locked": false,
     "points": 0.5,
     "schema_version": 3,
     "solution": true,
     "task": false
    }
   },
   "outputs": [
    {
     "name": "stdout",
     "output_type": "stream",
     "text": [
      "MAE on train set: 3.3773558002037274\n",
      "MAE on test set: 6.3367834053516905\n",
      "Accuracy on train set: 0.9987864077669902\n",
      "Accuracy on test set: 0.9854368932038835\n",
      "Dangerous percentage prediction on train set: 0.0\n",
      "Dangerous percentage prediction on test set 0.0\n"
     ]
    }
   ],
   "source": [
    "# Call the function to evaluate the model\n",
    "# train_pred_constant_mean, test_pred_constant_mean =\n",
    "# YOUR CODE HERE\n",
    "train_pred_constant_mean, test_pred_constant_mean = evaluate_model(likelihood_constant_mean, model_constant_mean)"
   ]
  },
  {
   "cell_type": "markdown",
   "id": "7d7aa183",
   "metadata": {
    "deletable": false,
    "editable": false,
    "nbgrader": {
     "cell_type": "markdown",
     "checksum": "67cfa98fc6dc441fa0668744768b1dda",
     "grade": false,
     "grade_id": "cell-c7e9855aaa27f18b",
     "locked": true,
     "schema_version": 3,
     "solution": false,
     "task": false
    }
   },
   "source": [
    "### Task 3b.5.3 - Print the horizontal and the vertical length scales, and the constant mean value (0.5p)"
   ]
  },
  {
   "cell_type": "code",
   "execution_count": 11,
   "id": "6c6ba027",
   "metadata": {
    "deletable": false,
    "nbgrader": {
     "cell_type": "code",
     "checksum": "da023fd95f3f0bbeb169723d34e5acc6",
     "grade": true,
     "grade_id": "cell-b3f9a306950753b9",
     "locked": false,
     "points": 0.5,
     "schema_version": 3,
     "solution": true,
     "task": false
    }
   },
   "outputs": [
    {
     "name": "stdout",
     "output_type": "stream",
     "text": [
      "Horizontal Lenghtscale of the kernel: \n",
      "tensor([[62.5658, 66.9136, 60.2216, 47.1422, 34.3473, 61.2524, 66.2735, 14.7240]],\n",
      "       dtype=torch.float64, grad_fn=<SoftplusBackward0>)\n",
      "Vertical Lengthscale of the kernel: \n",
      "33.00849164421543\n",
      "Constant mean value: \n",
      "23.92654530753176\n"
     ]
    }
   ],
   "source": [
    "print(\"Horizontal Lenghtscale of the kernel: \")\n",
    "# YOUR CODE HERE\n",
    "print(model_constant_mean.covar_module.base_kernel.lengthscale)\n",
    "\n",
    "print(\"Vertical Lengthscale of the kernel: \")\n",
    "# YOUR CODE HERE\n",
    "print(model_constant_mean.covar_module.raw_outputscale.item())\n",
    "\n",
    "print(\"Constant mean value: \")\n",
    "# YOUR CODE HERE\n",
    "print(model_constant_mean.mean_module.constant.item())"
   ]
  },
  {
   "cell_type": "markdown",
   "id": "8ab8384b",
   "metadata": {
    "deletable": false,
    "editable": false,
    "nbgrader": {
     "cell_type": "markdown",
     "checksum": "d5d7143b46d52e07193e554c30a5061b",
     "grade": false,
     "grade_id": "cell-e1d1af24aca2a8ae",
     "locked": true,
     "schema_version": 3,
     "solution": false,
     "task": false
    }
   },
   "source": [
    "### Task 3b.5.4 - Plot the predictions on the test set (0p)"
   ]
  },
  {
   "cell_type": "code",
   "execution_count": 12,
   "id": "fbcbec7b",
   "metadata": {
    "deletable": false,
    "editable": false,
    "nbgrader": {
     "cell_type": "code",
     "checksum": "df8194c155aeca0ffef1b306943a0601",
     "grade": false,
     "grade_id": "cell-3da8dc9038b9d08e",
     "locked": true,
     "schema_version": 3,
     "solution": false,
     "task": false
    }
   },
   "outputs": [
    {
     "data": {
      "application/vnd.jupyter.widget-view+json": {
       "model_id": "970199ebd6204b0daaed45a5f8313654",
       "version_major": 2,
       "version_minor": 0
      },
      "image/png": "[encoded data removed]",
      "text/html": [
       "\n",
       "            <div style=\"display: inline-block;\">\n",
       "                <div class=\"jupyter-widgets widget-label\" style=\"text-align: center;\">\n",
       "                    Figure\n",
       "                </div>\n",
       "                <img src='data:image/png;base64,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' width=640.0/>\n",
       "            </div>\n",
       "        "
      ],
      "text/plain": [
       "Canvas(toolbar=Toolbar(toolitems=[('Home', 'Reset original view', 'home', 'home'), ('Back', 'Back to previous …"
      ]
     },
     "metadata": {},
     "output_type": "display_data"
    }
   ],
   "source": [
    "%matplotlib widget\n",
    "\n",
    "# Setting fig and ax variables as subplots()\n",
    "# function returns tuple(fig, ax)\n",
    "fig, ax = plt.subplots()\n",
    "\n",
    "# Adjust the bottom size according to the\n",
    "# requirement of the user\n",
    "plt.subplots_adjust(bottom=0.25)\n",
    "\n",
    "index = np.arange(test_y.shape[0])\n",
    "plt.errorbar(\n",
    "    index,\n",
    "    test_pred_constant_mean.mean.numpy(),\n",
    "    yerr=2 * test_pred_constant_mean.stddev.numpy(),\n",
    "    fmt=\"*\",\n",
    "    label=\"Predictions with uncertainty\",\n",
    ")\n",
    "plt.plot(index, test_y, \"o\", label=\"True values\")\n",
    "\n",
    "plt.title(\"Prediction on test set\")\n",
    "# Choose the Slider color\n",
    "slider_color = \"White\"\n",
    "\n",
    "# Set the axis and slider position in the plot\n",
    "axis_position = plt.axes([0.2, 0.1, 0.65, 0.03], facecolor=slider_color)\n",
    "slider_position = Slider(axis_position, \"Pos\", 0.1, 90.0)\n",
    "\n",
    "\n",
    "# update() function to change the graph when the\n",
    "# slider is in use\n",
    "def update(val):\n",
    "    pos = slider_position.val\n",
    "    ax.axis([pos, pos + 20, 0, 100])\n",
    "    fig.canvas.draw_idle()\n",
    "\n",
    "\n",
    "# update function called using on_changed() function\n",
    "slider_position.on_changed(update)\n",
    "\n",
    "# Display the plot\n",
    "plt.savefig(outputs_dir / \"task_3b-5-4_predictions_on_test_set.pdf\")\n",
    "plt.show()"
   ]
  },
  {
   "cell_type": "markdown",
   "id": "7768b26c",
   "metadata": {
    "deletable": false,
    "editable": false,
    "nbgrader": {
     "cell_type": "markdown",
     "checksum": "275857537168d718574ed30f01de75f3",
     "grade": false,
     "grade_id": "cell-bf8dca82183883b9",
     "locked": true,
     "schema_version": 3,
     "solution": false,
     "task": false
    }
   },
   "source": [
    "## Task 3b.6 - Train and evaluate the `SVGPModel` with zero mean (0p)"
   ]
  },
  {
   "cell_type": "code",
   "execution_count": 16,
   "id": "8ed3992c",
   "metadata": {
    "deletable": false,
    "nbgrader": {
     "cell_type": "code",
     "checksum": "339f5041515ce08cec195743430d6a42",
     "grade": true,
     "grade_id": "cell-6b0ddd961eed0731",
     "locked": false,
     "points": 0,
     "schema_version": 3,
     "solution": true,
     "task": false
    }
   },
   "outputs": [
    {
     "name": "stdout",
     "output_type": "stream",
     "text": [
      "MAE on train set: 35.876546690703584\n",
      "MAE on test set: 35.58351673696602\n",
      "Accuracy on train set: 0.4878640776699029\n",
      "Accuracy on test set: 0.4223300970873786\n",
      "Dangerous percentage prediction on train set: 0.0\n",
      "Dangerous percentage prediction on test set 0.0\n"
     ]
    }
   ],
   "source": [
    "# Set a random seed for reproducibility\n",
    "np.random.seed(43)\n",
    "\n",
    "# Define the model (with a zero mean) and the likelihood\n",
    "# model_zero_mean =\n",
    "# likelihood_zero_mean =\n",
    "# YOUR CODE HERE\n",
    "model_zero_mean = SVGPModel(inducing_points)\n",
    "likelihood_zero_mean = gpytorch.likelihoods.GaussianLikelihood()\n",
    "\n",
    "model_zero_mean = model_zero_mean.double()\n",
    "likelihood_zero_mean = likelihood_zero_mean.double()\n",
    "\n",
    "# Call the function to train the variational parameters\n",
    "# YOUR CODE HERE\n",
    "train_variational_parameters(likelihood_zero_mean, model_zero_mean)\n",
    "\n",
    "# Call the function to evaluate the model\n",
    "# train_pred_zero_mean, test_pred_zero_mean =\n",
    "# YOUR CODE HERE\n",
    "train_pred_zero_mean, test_pred_zero_mean = evaluate_model(likelihood_zero_mean, model_zero_mean)"
   ]
  },
  {
   "cell_type": "markdown",
   "id": "baa68348",
   "metadata": {
    "deletable": false,
    "editable": false,
    "nbgrader": {
     "cell_type": "markdown",
     "checksum": "98ece5c37100f0edc550022008dc644f",
     "grade": false,
     "grade_id": "cell-02030cafaad31dd1",
     "locked": true,
     "schema_version": 3,
     "solution": false,
     "task": false
    }
   },
   "source": [
    "## Task 3b.7 - Comparison of the two models (1p)\n",
    "Comment on the difference between the predictions of the two sparse GP models (i.e., the one with constant and zero mean). Discuss the effect of the mean function, in particular, on the safety of the predictions."
   ]
  },
  {
   "cell_type": "markdown",
   "id": "3d2530f2",
   "metadata": {
    "deletable": false,
    "nbgrader": {
     "cell_type": "markdown",
     "checksum": "df3770672571ee1d1716bca3d394d417",
     "grade": true,
     "grade_id": "cell-92aa665e40398770",
     "locked": false,
     "points": 1,
     "schema_version": 3,
     "solution": true,
     "task": false
    }
   },
   "source": [
    "YOUR ANSWER HERE"
   ]
  }
 ],
 "metadata": {
  "kernelspec": {
   "display_name": "Python 3 (ipykernel)",
   "language": "python",
   "name": "python3"
  },
  "language_info": {
   "codemirror_mode": {
    "name": "ipython",
    "version": 3
   },
   "file_extension": ".py",
   "mimetype": "text/x-python",
   "name": "python",
   "nbconvert_exporter": "python",
   "pygments_lexer": "ipython3",
   "version": "3.11.8"
  }
 },
 "nbformat": 4,
 "nbformat_minor": 5
}
